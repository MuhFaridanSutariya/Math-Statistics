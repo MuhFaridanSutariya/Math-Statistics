{
 "cells": [
  {
   "cell_type": "markdown",
   "id": "c27d7ea9",
   "metadata": {},
   "source": [
    "# math2"
   ]
  },
  {
   "cell_type": "code",
   "execution_count": 1,
   "id": "f0f320fe",
   "metadata": {},
   "outputs": [],
   "source": [
    "from IPython.display import display, Math"
   ]
  },
  {
   "cell_type": "code",
   "execution_count": 2,
   "id": "e7ee0538",
   "metadata": {},
   "outputs": [
    {
     "data": {
      "text/plain": [
       "'4 + 5 = 9'"
      ]
     },
     "metadata": {},
     "output_type": "display_data"
    }
   ],
   "source": [
    "display('4 + 5 = 9')"
   ]
  },
  {
   "cell_type": "code",
   "execution_count": 3,
   "id": "2244a03d",
   "metadata": {},
   "outputs": [
    {
     "data": {
      "text/latex": [
       "$\\displaystyle 4 + 5 = 9$"
      ],
      "text/plain": [
       "<IPython.core.display.Math object>"
      ]
     },
     "metadata": {},
     "output_type": "display_data"
    }
   ],
   "source": [
    "#method math disini berfungsi merubah font style dari yang terlihat seperti string menjadi seperti angka biasa\n",
    "display(Math('4 + 5 = 9'))"
   ]
  },
  {
   "cell_type": "code",
   "execution_count": 4,
   "id": "c2dca2ba",
   "metadata": {},
   "outputs": [
    {
     "data": {
      "text/latex": [
       "$\\displaystyle 10+5=15$"
      ],
      "text/plain": [
       "<IPython.core.display.Math object>"
      ]
     },
     "metadata": {},
     "output_type": "display_data"
    }
   ],
   "source": [
    "x = 10\n",
    "y = 5\n",
    "display(Math(f'{x}+{y}={x+y}'))"
   ]
  },
  {
   "cell_type": "code",
   "execution_count": 5,
   "id": "4a40afae",
   "metadata": {},
   "outputs": [
    {
     "data": {
      "text/latex": [
       "$\\displaystyle \\frac45 = 0.8$"
      ],
      "text/plain": [
       "<IPython.core.display.Math object>"
      ]
     },
     "metadata": {},
     "output_type": "display_data"
    }
   ],
   "source": [
    "# cara untuk membuat tulisan pembagian yang sesuai dengan di buku\n",
    "display(Math(f'\\\\frac{4}{5} = {4/5}'))"
   ]
  },
  {
   "cell_type": "code",
   "execution_count": 6,
   "id": "bb592e32",
   "metadata": {},
   "outputs": [
    {
     "data": {
      "text/latex": [
       "$\\displaystyle 10\\times5 = 2.0$"
      ],
      "text/plain": [
       "<IPython.core.display.Math object>"
      ]
     },
     "metadata": {},
     "output_type": "display_data"
    }
   ],
   "source": [
    "display(Math(f'{x}\\\\times{y} = {x/y}'))"
   ]
  },
  {
   "cell_type": "code",
   "execution_count": 7,
   "id": "17fdd0bd",
   "metadata": {},
   "outputs": [
    {
     "data": {
      "text/latex": [
       "$\\displaystyle 5\\times5(5+10) = 375$"
      ],
      "text/plain": [
       "<IPython.core.display.Math object>"
      ]
     },
     "metadata": {},
     "output_type": "display_data"
    }
   ],
   "source": [
    "x = 5\n",
    "y = 10\n",
    "z = 2\n",
    "\n",
    "display(Math(f'{5}\\\\times{x}({5}+{y}) = {5*5*(5+y)}'))"
   ]
  },
  {
   "cell_type": "code",
   "execution_count": 8,
   "id": "b8e662ce",
   "metadata": {},
   "outputs": [
    {
     "data": {
      "text/latex": [
       "$\\displaystyle -10-\\frac32 = -11.5$"
      ],
      "text/plain": [
       "<IPython.core.display.Math object>"
      ]
     },
     "metadata": {},
     "output_type": "display_data"
    }
   ],
   "source": [
    "display(Math(f'{-y}-\\\\frac{x-2}{z} = {-y - ((x-2)/z)}'))"
   ]
  },
  {
   "cell_type": "code",
   "execution_count": 9,
   "id": "f0d333ac",
   "metadata": {},
   "outputs": [
    {
     "data": {
      "text/latex": [
       "$\\displaystyle {-y}-\\frac{x-2}{z} = -11.5$"
      ],
      "text/plain": [
       "<IPython.core.display.Math object>"
      ]
     },
     "metadata": {},
     "output_type": "display_data"
    }
   ],
   "source": [
    "# %s adalah string, %d = integer, %f = float, %g = float yg dibulatkan\n",
    "jawabanku = -y - ((x-2)/z)\n",
    "display(Math('{-y}-\\\\frac{x-2}{z} = %g' %jawabanku))"
   ]
  },
  {
   "cell_type": "markdown",
   "id": "d626ec45",
   "metadata": {},
   "source": [
    "# perpangkatan"
   ]
  },
  {
   "cell_type": "code",
   "execution_count": 10,
   "id": "7ee1266b",
   "metadata": {},
   "outputs": [],
   "source": [
    "x = 5\n",
    "y = 5.1"
   ]
  },
  {
   "cell_type": "code",
   "execution_count": 42,
   "id": "6bc0175f",
   "metadata": {},
   "outputs": [
    {
     "data": {
      "text/latex": [
       "$\\displaystyle x^\\frac34\\times4^y = 3933.086147822751$"
      ],
      "text/plain": [
       "<IPython.core.display.Math object>"
      ]
     },
     "metadata": {},
     "output_type": "display_data"
    }
   ],
   "source": [
    "hasil1 = x**(3/4) * 4**y\n",
    "display(Math(f'x^\\\\frac{3}{4}\\\\times{4}^y = {hasil1}'))"
   ]
  },
  {
   "cell_type": "code",
   "execution_count": 79,
   "id": "28c6d6f9",
   "metadata": {},
   "outputs": [
    {
     "data": {
      "text/latex": [
       "$\\displaystyle \\frac{3^3}{x^y} = 0.00735558$"
      ],
      "text/plain": [
       "<IPython.core.display.Math object>"
      ]
     },
     "metadata": {},
     "output_type": "display_data"
    }
   ],
   "source": [
    "hasil2 = 3**3/x**y\n",
    "# hasil2\n",
    "display(Math('\\\\frac{3^3}{x^y} = %g' %hasil2))"
   ]
  },
  {
   "cell_type": "code",
   "execution_count": 106,
   "id": "a3a53172",
   "metadata": {},
   "outputs": [
    {
     "data": {
      "text/latex": [
       "$\\displaystyle {10}^{x-}{}^{4} = 10$"
      ],
      "text/plain": [
       "<IPython.core.display.Math object>"
      ]
     },
     "metadata": {},
     "output_type": "display_data"
    }
   ],
   "source": [
    "hasil3 = 10**(x-4)\n",
    "# hasil3\n",
    "display(Math('{10}^{x-}{}^{4} = %g' %hasil3))"
   ]
  },
  {
   "cell_type": "code",
   "execution_count": null,
   "id": "65e71ebe",
   "metadata": {},
   "outputs": [],
   "source": []
  }
 ],
 "metadata": {
  "kernelspec": {
   "display_name": "Python 3 (ipykernel)",
   "language": "python",
   "name": "python3"
  },
  "language_info": {
   "codemirror_mode": {
    "name": "ipython",
    "version": 3
   },
   "file_extension": ".py",
   "mimetype": "text/x-python",
   "name": "python",
   "nbconvert_exporter": "python",
   "pygments_lexer": "ipython3",
   "version": "3.9.7"
  }
 },
 "nbformat": 4,
 "nbformat_minor": 5
}
