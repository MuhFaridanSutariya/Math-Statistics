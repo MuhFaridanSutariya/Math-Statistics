{
 "cells": [
  {
   "cell_type": "markdown",
   "id": "9c64d277",
   "metadata": {},
   "source": [
    "# Basic Aljabar"
   ]
  },
  {
   "cell_type": "code",
   "execution_count": 4,
   "id": "84dd73ad",
   "metadata": {},
   "outputs": [],
   "source": [
    "import sympy as sym"
   ]
  },
  {
   "cell_type": "code",
   "execution_count": 5,
   "id": "d0db7790",
   "metadata": {},
   "outputs": [
    {
     "ename": "NameError",
     "evalue": "name 'x' is not defined",
     "output_type": "error",
     "traceback": [
      "\u001b[1;31m---------------------------------------------------------------------------\u001b[0m",
      "\u001b[1;31mNameError\u001b[0m                                 Traceback (most recent call last)",
      "\u001b[1;32m~\\AppData\\Local\\Temp/ipykernel_19568/32546335.py\u001b[0m in \u001b[0;36m<module>\u001b[1;34m\u001b[0m\n\u001b[1;32m----> 1\u001b[1;33m \u001b[0mx\u001b[0m\u001b[1;33m\u001b[0m\u001b[1;33m\u001b[0m\u001b[0m\n\u001b[0m",
      "\u001b[1;31mNameError\u001b[0m: name 'x' is not defined"
     ]
    }
   ],
   "source": [
    "x"
   ]
  },
  {
   "cell_type": "code",
   "execution_count": 6,
   "id": "f14345cd",
   "metadata": {},
   "outputs": [],
   "source": [
    "# method symbols digunakan untuk merepresentasikan sebuah notasi dimatematika\n",
    "x = sym.symbols()"
   ]
  },
  {
   "cell_type": "code",
   "execution_count": 7,
   "id": "4ee3f046",
   "metadata": {},
   "outputs": [
    {
     "data": {
      "text/latex": [
       "$\\displaystyle x$"
      ],
      "text/plain": [
       "x"
      ]
     },
     "execution_count": 7,
     "metadata": {},
     "output_type": "execute_result"
    }
   ],
   "source": [
    "x"
   ]
  },
  {
   "cell_type": "code",
   "execution_count": 9,
   "id": "11c33b75",
   "metadata": {},
   "outputs": [
    {
     "data": {
      "text/latex": [
       "$\\displaystyle x + 1$"
      ],
      "text/plain": [
       "x + 1"
      ]
     },
     "execution_count": 9,
     "metadata": {},
     "output_type": "execute_result"
    }
   ],
   "source": [
    "x+1"
   ]
  },
  {
   "cell_type": "code",
   "execution_count": 12,
   "id": "33d5426f",
   "metadata": {},
   "outputs": [
    {
     "data": {
      "text/latex": [
       "$\\displaystyle 2 x$"
      ],
      "text/plain": [
       "2*x"
      ]
     },
     "execution_count": 12,
     "metadata": {},
     "output_type": "execute_result"
    }
   ],
   "source": [
    "x*2"
   ]
  },
  {
   "cell_type": "code",
   "execution_count": 13,
   "id": "30a13a8f",
   "metadata": {},
   "outputs": [
    {
     "data": {
      "text/latex": [
       "$\\displaystyle x^{2}$"
      ],
      "text/plain": [
       "x**2"
      ]
     },
     "execution_count": 13,
     "metadata": {},
     "output_type": "execute_result"
    }
   ],
   "source": [
    "x**2"
   ]
  },
  {
   "cell_type": "code",
   "execution_count": 14,
   "id": "f9914c5b",
   "metadata": {},
   "outputs": [],
   "source": [
    "y,z = sym.symbols('y,z')"
   ]
  },
  {
   "cell_type": "code",
   "execution_count": 16,
   "id": "6d0c4583",
   "metadata": {},
   "outputs": [
    {
     "data": {
      "text/latex": [
       "$\\displaystyle \\frac{x}{y}$"
      ],
      "text/plain": [
       "x/y"
      ]
     },
     "execution_count": 16,
     "metadata": {},
     "output_type": "execute_result"
    }
   ],
   "source": [
    "x/y"
   ]
  },
  {
   "cell_type": "code",
   "execution_count": 19,
   "id": "3949bc75",
   "metadata": {},
   "outputs": [
    {
     "data": {
      "text/latex": [
       "$\\displaystyle \\frac{x}{y}$"
      ],
      "text/plain": [
       "x/y"
      ]
     },
     "metadata": {},
     "output_type": "display_data"
    }
   ],
   "source": [
    "#display digunakan agar tidak menampilkan tulisan out di samping kiri output\n",
    "display(x/y)"
   ]
  },
  {
   "cell_type": "code",
   "execution_count": 18,
   "id": "a0a1c0a0",
   "metadata": {},
   "outputs": [
    {
     "data": {
      "text/latex": [
       "$\\displaystyle \\frac{x}{y}$"
      ],
      "text/plain": [
       "<IPython.core.display.Math object>"
      ]
     },
     "metadata": {},
     "output_type": "display_data"
    }
   ],
   "source": [
    "from IPython.display import Math\n",
    "\n",
    "display(Math('\\\\frac{x}{y}'))"
   ]
  },
  {
   "cell_type": "code",
   "execution_count": 29,
   "id": "63ed5cba",
   "metadata": {},
   "outputs": [
    {
     "data": {
      "text/latex": [
       "$\\displaystyle 2 \\sqrt{2}$"
      ],
      "text/plain": [
       "2*sqrt(2)"
      ]
     },
     "metadata": {},
     "output_type": "display_data"
    }
   ],
   "source": [
    "display(sym.sqrt(8))"
   ]
  },
  {
   "cell_type": "code",
   "execution_count": 30,
   "id": "6f87363e",
   "metadata": {},
   "outputs": [],
   "source": [
    "import numpy as np\n",
    "import math"
   ]
  },
  {
   "cell_type": "code",
   "execution_count": 31,
   "id": "c43a7eea",
   "metadata": {},
   "outputs": [
    {
     "data": {
      "text/plain": [
       "2.8284271247461903"
      ]
     },
     "execution_count": 31,
     "metadata": {},
     "output_type": "execute_result"
    }
   ],
   "source": [
    "np.sqrt(8)"
   ]
  },
  {
   "cell_type": "code",
   "execution_count": 32,
   "id": "fd71c8bd",
   "metadata": {},
   "outputs": [
    {
     "data": {
      "text/plain": [
       "2.8284271247461903"
      ]
     },
     "execution_count": 32,
     "metadata": {},
     "output_type": "execute_result"
    }
   ],
   "source": [
    "math.sqrt(8)"
   ]
  },
  {
   "cell_type": "code",
   "execution_count": 47,
   "id": "fccd88ae",
   "metadata": {},
   "outputs": [
    {
     "data": {
      "text/latex": [
       "$\\displaystyle \\sigma = \\frac {\\mu}{\\sqrt{x+y^{25z}}}$"
      ],
      "text/plain": [
       "<IPython.core.display.Math object>"
      ]
     },
     "metadata": {},
     "output_type": "display_data"
    }
   ],
   "source": [
    "display(Math('\\\\sigma = \\\\frac {\\\\mu}{\\\\sqrt{x+y^{25z}}}'))"
   ]
  },
  {
   "cell_type": "code",
   "execution_count": 49,
   "id": "76aace1b",
   "metadata": {},
   "outputs": [
    {
     "data": {
      "text/latex": [
       "$\\displaystyle z_{k}$"
      ],
      "text/plain": [
       "<IPython.core.display.Math object>"
      ]
     },
     "metadata": {},
     "output_type": "display_data"
    }
   ],
   "source": [
    "display(Math('z_{k}'))"
   ]
  },
  {
   "cell_type": "code",
   "execution_count": 64,
   "id": "eb79ee3b",
   "metadata": {},
   "outputs": [
    {
     "data": {
      "text/latex": [
       "$\\displaystyle \\text{Tentukan hasil dari operasi berikut : } \\frac {x}{y^{19}}$"
      ],
      "text/plain": [
       "<IPython.core.display.Math object>"
      ]
     },
     "metadata": {},
     "output_type": "display_data"
    }
   ],
   "source": [
    "display(Math('\\\\text{Tentukan hasil dari operasi berikut : } \\\\frac {x}{y^{19}}'))"
   ]
  },
  {
   "cell_type": "code",
   "execution_count": null,
   "id": "594dd720",
   "metadata": {},
   "outputs": [],
   "source": [
    "# cara membuat notasi di markdown ialah dengan menggunakan $$ \\frac {x}{y_k} $$ "
   ]
  },
  {
   "cell_type": "markdown",
   "id": "9c16fa7c",
   "metadata": {},
   "source": [
    "$$ \\frac {x}{y_k} $$ "
   ]
  },
  {
   "cell_type": "code",
   "execution_count": 67,
   "id": "c944717a",
   "metadata": {},
   "outputs": [
    {
     "data": {
      "text/latex": [
       "$\\displaystyle e = mc^2$"
      ],
      "text/plain": [
       "<IPython.core.display.Math object>"
      ]
     },
     "metadata": {},
     "output_type": "display_data"
    }
   ],
   "source": [
    "display(Math('e = mc^2'))\n",
    "# apa bila kita ingin menggunakan lebih dari 1 angka atau value dapat menggunakan kurung kurawal\n",
    "# display(Math('e = mc^{2}'))"
   ]
  },
  {
   "cell_type": "code",
   "execution_count": 68,
   "id": "8ce77d91",
   "metadata": {},
   "outputs": [],
   "source": [
    "mu, alpha, sigma = sym.symbols('mu, alpha, sigma')"
   ]
  },
  {
   "cell_type": "code",
   "execution_count": 76,
   "id": "220790b7",
   "metadata": {},
   "outputs": [],
   "source": [
    "# p = persamaan\n",
    "p = mu + 45 + sym.exp(sigma+alpha)"
   ]
  },
  {
   "cell_type": "code",
   "execution_count": 77,
   "id": "3c373589",
   "metadata": {},
   "outputs": [
    {
     "data": {
      "text/latex": [
       "$\\displaystyle \\mu + e^{\\alpha + \\sigma} + 45$"
      ],
      "text/plain": [
       "mu + exp(alpha + sigma) + 45"
      ]
     },
     "metadata": {},
     "output_type": "display_data"
    }
   ],
   "source": [
    "display(p)"
   ]
  },
  {
   "cell_type": "code",
   "execution_count": 78,
   "id": "b7048fed",
   "metadata": {},
   "outputs": [],
   "source": [
    "x,y,z = sym.symbols('x,y,z')"
   ]
  },
  {
   "cell_type": "code",
   "execution_count": 79,
   "id": "f11a888f",
   "metadata": {},
   "outputs": [],
   "source": [
    "p = x+2"
   ]
  },
  {
   "cell_type": "code",
   "execution_count": 80,
   "id": "ae974d05",
   "metadata": {},
   "outputs": [
    {
     "data": {
      "text/latex": [
       "$\\displaystyle 4$"
      ],
      "text/plain": [
       "4"
      ]
     },
     "execution_count": 80,
     "metadata": {},
     "output_type": "execute_result"
    }
   ],
   "source": [
    "p.subs(x,2)"
   ]
  },
  {
   "cell_type": "code",
   "execution_count": 86,
   "id": "576f2090",
   "metadata": {},
   "outputs": [],
   "source": [
    "p = x-10+4**y"
   ]
  },
  {
   "cell_type": "code",
   "execution_count": 87,
   "id": "3667bd52",
   "metadata": {},
   "outputs": [
    {
     "data": {
      "text/latex": [
       "$\\displaystyle 4^{y} - 8$"
      ],
      "text/plain": [
       "4**y - 8"
      ]
     },
     "execution_count": 87,
     "metadata": {},
     "output_type": "execute_result"
    }
   ],
   "source": [
    "p.subs(x,2)"
   ]
  },
  {
   "cell_type": "code",
   "execution_count": 88,
   "id": "0ed9481b",
   "metadata": {},
   "outputs": [
    {
     "data": {
      "text/latex": [
       "$\\displaystyle 16$"
      ],
      "text/plain": [
       "16"
      ]
     },
     "execution_count": 88,
     "metadata": {},
     "output_type": "execute_result"
    }
   ],
   "source": [
    "# menggunakan dictionary untuk memasukkan lebih dari 1 parameter pada method subs\n",
    "p.subs({x:10, y:2})"
   ]
  },
  {
   "cell_type": "code",
   "execution_count": 90,
   "id": "d1478b80",
   "metadata": {},
   "outputs": [],
   "source": [
    "# => non homogeneus\n",
    "# 5x + 5 = 20\n",
    "# => homogeneus\n",
    "# 5x + 5 - 20 = 0\n",
    "# 0 = -5x - 5 +20"
   ]
  },
  {
   "cell_type": "markdown",
   "id": "616b228f",
   "metadata": {},
   "source": [
    "# memecahkan persoalan aljabar"
   ]
  },
  {
   "cell_type": "code",
   "execution_count": 91,
   "id": "49587b4a",
   "metadata": {},
   "outputs": [],
   "source": [
    "x = sym.symbols('x')"
   ]
  },
  {
   "cell_type": "code",
   "execution_count": 95,
   "id": "dbe27223",
   "metadata": {},
   "outputs": [],
   "source": [
    "p = 5*x + 5 - 20"
   ]
  },
  {
   "cell_type": "code",
   "execution_count": 99,
   "id": "922e9bb0",
   "metadata": {},
   "outputs": [
    {
     "data": {
      "text/plain": [
       "[3]"
      ]
     },
     "execution_count": 99,
     "metadata": {},
     "output_type": "execute_result"
    }
   ],
   "source": [
    "sym.solve(p)\n",
    "# penyelesaian\n",
    "# 5x + 5 - 20 = 0\n",
    "# 5x - 15 = 0\n",
    "# 5x = 15\n",
    "# x = 15/5\n",
    "# x = 3"
   ]
  },
  {
   "cell_type": "code",
   "execution_count": 108,
   "id": "3c5aac2b",
   "metadata": {},
   "outputs": [
    {
     "data": {
      "text/latex": [
       "$\\displaystyle \\text{Solusi dari persamaan }5 x - 15 \\text{ adalah x = }3$"
      ],
      "text/plain": [
       "<IPython.core.display.Math object>"
      ]
     },
     "metadata": {},
     "output_type": "display_data"
    }
   ],
   "source": [
    "# %g digunakan untuk membulatkan apabila terdapat hasil berupa floating-point\n",
    "display(Math('\\\\text{Solusi dari persamaan }%s \\\\text{ adalah x = }%g' %(sym.latex(p), sym.solve(p)[0])))"
   ]
  },
  {
   "cell_type": "code",
   "execution_count": 109,
   "id": "c0ffb072",
   "metadata": {},
   "outputs": [],
   "source": [
    "p2 = x**2 - 4"
   ]
  },
  {
   "cell_type": "code",
   "execution_count": 111,
   "id": "d402c92f",
   "metadata": {},
   "outputs": [
    {
     "data": {
      "text/plain": [
       "[-2, 2]"
      ]
     },
     "execution_count": 111,
     "metadata": {},
     "output_type": "execute_result"
    }
   ],
   "source": [
    "# x**2 - 4\n",
    "# x**2 = 4\n",
    "# 2**2 = 4 jawaban pertama\n",
    "# -2**2 = 4 jawaban kedua\n",
    "# jadi hasil x**2 - 4 memiliki lebih dari 1 jawaban \n",
    "sym.solve(p2)"
   ]
  },
  {
   "cell_type": "code",
   "execution_count": 114,
   "id": "3a5bfbb3",
   "metadata": {},
   "outputs": [
    {
     "name": "stdout",
     "output_type": "stream",
     "text": [
      "solusi #1 adalah -2\n",
      "solusi #2 adalah 2\n"
     ]
    }
   ],
   "source": [
    "jawab = sym.solve(p2)\n",
    "\n",
    "for i in range(0,len(jawab)):\n",
    "    print('solusi #' + str(i+1) + ' adalah '+str(jawab[i]))"
   ]
  },
  {
   "cell_type": "code",
   "execution_count": 115,
   "id": "77742537",
   "metadata": {},
   "outputs": [],
   "source": [
    "y = sym.symbols('y')"
   ]
  },
  {
   "cell_type": "code",
   "execution_count": 116,
   "id": "df77871d",
   "metadata": {},
   "outputs": [],
   "source": [
    "p3 = x/10 - x*y + 50"
   ]
  },
  {
   "cell_type": "code",
   "execution_count": 121,
   "id": "2eed5f25",
   "metadata": {},
   "outputs": [
    {
     "data": {
      "text/plain": [
       "[500/(10*y - 1)]"
      ]
     },
     "execution_count": 121,
     "metadata": {},
     "output_type": "execute_result"
    }
   ],
   "source": [
    "sym.solve(p3,x)"
   ]
  },
  {
   "cell_type": "code",
   "execution_count": 122,
   "id": "efec3773",
   "metadata": {},
   "outputs": [],
   "source": [
    "# penyelesaian\n",
    "# x/10 - xy + 50 = 0\n",
    "# 50 = -(x/10) + xy\n",
    "# 50 = x((-1/10) + y)\n",
    "# 50/((-1/10) + y) = x\n",
    "# 500 / (-1+10y) = x"
   ]
  },
  {
   "cell_type": "code",
   "execution_count": null,
   "id": "1b4e6c0c",
   "metadata": {},
   "outputs": [],
   "source": []
  },
  {
   "cell_type": "code",
   "execution_count": null,
   "id": "6ae2301c",
   "metadata": {},
   "outputs": [],
   "source": []
  }
 ],
 "metadata": {
  "kernelspec": {
   "display_name": "Python 3 (ipykernel)",
   "language": "python",
   "name": "python3"
  },
  "language_info": {
   "codemirror_mode": {
    "name": "ipython",
    "version": 3
   },
   "file_extension": ".py",
   "mimetype": "text/x-python",
   "name": "python",
   "nbconvert_exporter": "python",
   "pygments_lexer": "ipython3",
   "version": "3.9.7"
  }
 },
 "nbformat": 4,
 "nbformat_minor": 5
}
