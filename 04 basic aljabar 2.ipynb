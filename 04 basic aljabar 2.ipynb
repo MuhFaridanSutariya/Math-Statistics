{
 "cells": [
  {
   "cell_type": "code",
   "execution_count": 2,
   "id": "2a023a0b",
   "metadata": {},
   "outputs": [],
   "source": [
    "import sympy as sym\n",
    "from IPython.display import Math"
   ]
  },
  {
   "cell_type": "code",
   "execution_count": 8,
   "id": "e8a3dce0",
   "metadata": {},
   "outputs": [],
   "source": [
    "x,y,z = sym.symbols('x y z')"
   ]
  },
  {
   "cell_type": "code",
   "execution_count": 10,
   "id": "967bc97c",
   "metadata": {},
   "outputs": [],
   "source": [
    "p1 = (x**y) * (x**z)"
   ]
  },
  {
   "cell_type": "code",
   "execution_count": 12,
   "id": "27ce592f",
   "metadata": {},
   "outputs": [
    {
     "data": {
      "text/latex": [
       "$\\displaystyle x^{y} x^{z}$"
      ],
      "text/plain": [
       "x**y*x**z"
      ]
     },
     "metadata": {},
     "output_type": "display_data"
    }
   ],
   "source": [
    "display(p1)"
   ]
  },
  {
   "cell_type": "code",
   "execution_count": 13,
   "id": "2acd5260",
   "metadata": {},
   "outputs": [
    {
     "data": {
      "text/latex": [
       "$\\displaystyle x^{y + z}$"
      ],
      "text/plain": [
       "x**(y + z)"
      ]
     },
     "metadata": {},
     "output_type": "display_data"
    }
   ],
   "source": [
    "display(sym.simplify(p1))"
   ]
  },
  {
   "cell_type": "code",
   "execution_count": 14,
   "id": "7d44cf52",
   "metadata": {},
   "outputs": [
    {
     "data": {
      "text/latex": [
       "$\\displaystyle x^{y} x^{- z}$"
      ],
      "text/plain": [
       "x**y/x**z"
      ]
     },
     "metadata": {},
     "output_type": "display_data"
    }
   ],
   "source": [
    "p2 = x**y / x**z\n",
    "display(p2)"
   ]
  },
  {
   "cell_type": "code",
   "execution_count": 15,
   "id": "d5f8d123",
   "metadata": {},
   "outputs": [
    {
     "data": {
      "text/latex": [
       "$\\displaystyle x^{y - z}$"
      ],
      "text/plain": [
       "x**(y - z)"
      ]
     },
     "metadata": {},
     "output_type": "display_data"
    }
   ],
   "source": [
    "display(sym.simplify(p2))"
   ]
  },
  {
   "cell_type": "code",
   "execution_count": 19,
   "id": "839e8734",
   "metadata": {},
   "outputs": [
    {
     "data": {
      "text/latex": [
       "$\\displaystyle x^{z} y^{x}$"
      ],
      "text/plain": [
       "x**z*y**x"
      ]
     },
     "metadata": {},
     "output_type": "display_data"
    },
    {
     "data": {
      "text/latex": [
       "$\\displaystyle x^{z} y^{x}$"
      ],
      "text/plain": [
       "x**z*y**x"
      ]
     },
     "metadata": {},
     "output_type": "display_data"
    }
   ],
   "source": [
    "p3 = x**z * y**x \n",
    "display(p3)\n",
    "display(sym.simplify(p3))"
   ]
  },
  {
   "cell_type": "markdown",
   "id": "17365b53",
   "metadata": {},
   "source": [
    "# menjabarkan persamaan aljabar"
   ]
  },
  {
   "cell_type": "code",
   "execution_count": 29,
   "id": "e03682c3",
   "metadata": {},
   "outputs": [],
   "source": [
    "p1 = x*(x+1)\n",
    "p2 = x"
   ]
  },
  {
   "cell_type": "code",
   "execution_count": 30,
   "id": "ab5df754",
   "metadata": {},
   "outputs": [
    {
     "data": {
      "text/latex": [
       "$\\displaystyle x^{2} \\left(x + 1\\right)$"
      ],
      "text/plain": [
       "x**2*(x + 1)"
      ]
     },
     "metadata": {},
     "output_type": "display_data"
    }
   ],
   "source": [
    "display(p1*p2)"
   ]
  },
  {
   "cell_type": "code",
   "execution_count": 31,
   "id": "bad1775f",
   "metadata": {},
   "outputs": [
    {
     "data": {
      "text/latex": [
       "$\\displaystyle x^{3} + x^{2}$"
      ],
      "text/plain": [
       "x**3 + x**2"
      ]
     },
     "metadata": {},
     "output_type": "display_data"
    }
   ],
   "source": [
    "display(sym.expand(p1*p2))"
   ]
  },
  {
   "cell_type": "code",
   "execution_count": 32,
   "id": "907d2ea0",
   "metadata": {},
   "outputs": [],
   "source": [
    "p3 = y**13 + x**8"
   ]
  },
  {
   "cell_type": "code",
   "execution_count": 33,
   "id": "caf19818",
   "metadata": {},
   "outputs": [
    {
     "data": {
      "text/latex": [
       "$\\displaystyle x^{2} \\left(x + 1\\right) \\left(x^{8} + y^{13}\\right)$"
      ],
      "text/plain": [
       "x**2*(x + 1)*(x**8 + y**13)"
      ]
     },
     "metadata": {},
     "output_type": "display_data"
    }
   ],
   "source": [
    "display(p1*p2*p3)"
   ]
  },
  {
   "cell_type": "code",
   "execution_count": 34,
   "id": "fec88e01",
   "metadata": {},
   "outputs": [
    {
     "data": {
      "text/latex": [
       "$\\displaystyle x^{11} + x^{10} + x^{3} y^{13} + x^{2} y^{13}$"
      ],
      "text/plain": [
       "x**11 + x**10 + x**3*y**13 + x**2*y**13"
      ]
     },
     "metadata": {},
     "output_type": "display_data"
    }
   ],
   "source": [
    "display(sym.expand(p1*p2*p3))"
   ]
  },
  {
   "cell_type": "code",
   "execution_count": 35,
   "id": "7a5efc58",
   "metadata": {},
   "outputs": [
    {
     "data": {
      "text/latex": [
       "$\\displaystyle \\sqrt{y}$"
      ],
      "text/plain": [
       "sqrt(y)"
      ]
     },
     "metadata": {},
     "output_type": "display_data"
    }
   ],
   "source": [
    "p4 = sym.sqrt(y)\n",
    "display(p4)"
   ]
  },
  {
   "cell_type": "code",
   "execution_count": 40,
   "id": "e5e3916a",
   "metadata": {},
   "outputs": [
    {
     "data": {
      "text/latex": [
       "$\\displaystyle \\frac{x^{11}}{\\sqrt{y}} + \\frac{x^{10}}{\\sqrt{y}} + x^{3} y^{\\frac{25}{2}} + x^{2} y^{\\frac{25}{2}}$"
      ],
      "text/plain": [
       "x**11/sqrt(y) + x**10/sqrt(y) + x**3*y**(25/2) + x**2*y**(25/2)"
      ]
     },
     "metadata": {},
     "output_type": "display_data"
    }
   ],
   "source": [
    "display(sym.expand((p1*p2*p3)/p4))"
   ]
  },
  {
   "cell_type": "code",
   "execution_count": 44,
   "id": "1cc5b0c3",
   "metadata": {},
   "outputs": [
    {
     "data": {
      "text/latex": [
       "$\\displaystyle \\frac{x^{2} \\left(x + 1\\right) \\left(x^{8} + y^{13}\\right)}{\\sqrt{y}}$"
      ],
      "text/plain": [
       "x**2*(x + 1)*(x**8 + y**13)/sqrt(y)"
      ]
     },
     "metadata": {},
     "output_type": "display_data"
    }
   ],
   "source": [
    "display(sym.simplify((p1*p2*p3)/p4))"
   ]
  },
  {
   "cell_type": "code",
   "execution_count": 45,
   "id": "cef57077",
   "metadata": {},
   "outputs": [
    {
     "name": "stdout",
     "output_type": "stream",
     "text": [
      "Variable   Type      Data/Info\n",
      "------------------------------\n",
      "Math       type      <class 'IPython.core.display.Math'>\n",
      "p1         Mul       x*(x + 1)\n",
      "p2         Symbol    x\n",
      "p3         Add       x**8 + y**13\n",
      "p4         Pow       sqrt(y)\n",
      "sym        module    <module 'sympy' from 'D:\\<...>ges\\\\sympy\\\\__init__.py'>\n",
      "x          Symbol    x\n",
      "y          Symbol    y\n",
      "z          Symbol    z\n"
     ]
    }
   ],
   "source": [
    "#untuk mengetahui variabel yang telah didefinisikan dan library\n",
    "%whos"
   ]
  },
  {
   "cell_type": "markdown",
   "id": "5ebb1edd",
   "metadata": {},
   "source": [
    "# Hukum asosiatif, komutatif, dan distributif"
   ]
  },
  {
   "cell_type": "code",
   "execution_count": 47,
   "id": "25b69359",
   "metadata": {},
   "outputs": [],
   "source": [
    "p1 = 5*(x*y)\n",
    "p2 = (5*x)*y"
   ]
  },
  {
   "cell_type": "code",
   "execution_count": 49,
   "id": "a52da941",
   "metadata": {},
   "outputs": [
    {
     "data": {
      "text/latex": [
       "$\\displaystyle 0$"
      ],
      "text/plain": [
       "0"
      ]
     },
     "execution_count": 49,
     "metadata": {},
     "output_type": "execute_result"
    }
   ],
   "source": [
    "p1 - p2"
   ]
  },
  {
   "cell_type": "code",
   "execution_count": 57,
   "id": "64925301",
   "metadata": {},
   "outputs": [
    {
     "data": {
      "text/plain": [
       "True"
      ]
     },
     "execution_count": 57,
     "metadata": {},
     "output_type": "execute_result"
    }
   ],
   "source": [
    "p1 == p2"
   ]
  },
  {
   "cell_type": "code",
   "execution_count": 58,
   "id": "e3b44645",
   "metadata": {},
   "outputs": [
    {
     "data": {
      "text/latex": [
       "$\\displaystyle 5 x y$"
      ],
      "text/plain": [
       "5*x*y"
      ]
     },
     "metadata": {},
     "output_type": "display_data"
    },
    {
     "data": {
      "text/latex": [
       "$\\displaystyle 5 x y$"
      ],
      "text/plain": [
       "5*x*y"
      ]
     },
     "metadata": {},
     "output_type": "display_data"
    }
   ],
   "source": [
    "display(p1)\n",
    "display(p2)"
   ]
  },
  {
   "cell_type": "code",
   "execution_count": 63,
   "id": "8d588a84",
   "metadata": {},
   "outputs": [
    {
     "name": "stdout",
     "output_type": "stream",
     "text": [
      "30\n"
     ]
    }
   ],
   "source": [
    "#subs digunakan untuk memberikan nilai/angka pada x\n",
    "print(p1.subs({x:2, y:3}))"
   ]
  },
  {
   "cell_type": "code",
   "execution_count": 64,
   "id": "3bfa0d90",
   "metadata": {},
   "outputs": [],
   "source": [
    "#komutatif\n",
    "p3 = 5*x*y\n",
    "p4 = x*y*5\n",
    "p5 = y*5*x"
   ]
  },
  {
   "cell_type": "code",
   "execution_count": 65,
   "id": "f0c675db",
   "metadata": {},
   "outputs": [
    {
     "data": {
      "text/plain": [
       "True"
      ]
     },
     "execution_count": 65,
     "metadata": {},
     "output_type": "execute_result"
    }
   ],
   "source": [
    "p3 == p4 == p5"
   ]
  },
  {
   "cell_type": "code",
   "execution_count": 68,
   "id": "1eb73823",
   "metadata": {},
   "outputs": [
    {
     "name": "stdout",
     "output_type": "stream",
     "text": [
      "45\n",
      "45\n",
      "45\n"
     ]
    }
   ],
   "source": [
    "print(p3.subs({x:3, y:3}))\n",
    "print(p4.subs({x:3, y:3}))\n",
    "print(p5.subs({x:3, y:3}))"
   ]
  },
  {
   "cell_type": "code",
   "execution_count": 69,
   "id": "8c086b9d",
   "metadata": {},
   "outputs": [],
   "source": [
    "a = sym.symbols('a')"
   ]
  },
  {
   "cell_type": "code",
   "execution_count": 71,
   "id": "100e360b",
   "metadata": {},
   "outputs": [],
   "source": [
    "x = a*(67-a) + 1/a**2 * (16+a)"
   ]
  },
  {
   "cell_type": "code",
   "execution_count": 72,
   "id": "b6555c12",
   "metadata": {},
   "outputs": [
    {
     "data": {
      "text/latex": [
       "$\\displaystyle a \\left(67 - a\\right) + \\frac{a + 16}{a^{2}}$"
      ],
      "text/plain": [
       "a*(67 - a) + (a + 16)/a**2"
      ]
     },
     "execution_count": 72,
     "metadata": {},
     "output_type": "execute_result"
    }
   ],
   "source": [
    "x"
   ]
  },
  {
   "cell_type": "code",
   "execution_count": 73,
   "id": "6ab3ac6b",
   "metadata": {},
   "outputs": [],
   "source": [
    "p6 = x*(y+z)"
   ]
  },
  {
   "cell_type": "code",
   "execution_count": 75,
   "id": "09a749fc",
   "metadata": {},
   "outputs": [],
   "source": [
    "p7 = 3/x + x**2"
   ]
  },
  {
   "cell_type": "code",
   "execution_count": 76,
   "id": "9524cac4",
   "metadata": {},
   "outputs": [
    {
     "data": {
      "text/latex": [
       "$\\displaystyle \\left(y + z\\right) \\left(a \\left(67 - a\\right) + \\frac{a + 16}{a^{2}}\\right)$"
      ],
      "text/plain": [
       "(y + z)*(a*(67 - a) + (a + 16)/a**2)"
      ]
     },
     "metadata": {},
     "output_type": "display_data"
    },
    {
     "data": {
      "text/latex": [
       "$\\displaystyle \\left(a \\left(67 - a\\right) + \\frac{a + 16}{a^{2}}\\right)^{2} + \\frac{3}{a \\left(67 - a\\right) + \\frac{a + 16}{a^{2}}}$"
      ],
      "text/plain": [
       "(a*(67 - a) + (a + 16)/a**2)**2 + 3/(a*(67 - a) + (a + 16)/a**2)"
      ]
     },
     "metadata": {},
     "output_type": "display_data"
    }
   ],
   "source": [
    "display(p6)\n",
    "display(p7)"
   ]
  },
  {
   "cell_type": "code",
   "execution_count": 77,
   "id": "495119df",
   "metadata": {},
   "outputs": [
    {
     "data": {
      "text/latex": [
       "$\\displaystyle \\left(y + z\\right) \\left(a \\left(67 - a\\right) + \\frac{a + 16}{a^{2}}\\right) \\left(\\left(a \\left(67 - a\\right) + \\frac{a + 16}{a^{2}}\\right)^{2} + \\frac{3}{a \\left(67 - a\\right) + \\frac{a + 16}{a^{2}}}\\right)$"
      ],
      "text/plain": [
       "(y + z)*(a*(67 - a) + (a + 16)/a**2)*((a*(67 - a) + (a + 16)/a**2)**2 + 3/(a*(67 - a) + (a + 16)/a**2))"
      ]
     },
     "metadata": {},
     "output_type": "display_data"
    }
   ],
   "source": [
    "display(p6*p7)"
   ]
  },
  {
   "cell_type": "code",
   "execution_count": 78,
   "id": "f60c71b8",
   "metadata": {},
   "outputs": [
    {
     "data": {
      "text/latex": [
       "$\\displaystyle - a^{6} y - a^{6} z + 201 a^{5} y + 201 a^{5} z - 13467 a^{4} y - 13467 a^{4} z + 300766 a^{3} y + 300766 a^{3} z - 354 a^{2} y - \\frac{3 a^{2} y}{- a^{2} + 67 a + \\frac{1}{a} + \\frac{16}{a^{2}}} - 354 a^{2} z - \\frac{3 a^{2} z}{- a^{2} + 67 a + \\frac{1}{a} + \\frac{16}{a^{2}}} + 7035 a y + \\frac{201 a y}{- a^{2} + 67 a + \\frac{1}{a} + \\frac{16}{a^{2}}} + 7035 a z + \\frac{201 a z}{- a^{2} + 67 a + \\frac{1}{a} + \\frac{16}{a^{2}}} + 215469 y + \\frac{48 y}{- a^{4} + 67 a^{3} + a + 16} + \\frac{3 y}{- a^{3} + 67 a^{2} + 1 + \\frac{16}{a}} + 215469 z + \\frac{48 z}{- a^{4} + 67 a^{3} + a + 16} + \\frac{3 z}{- a^{3} + 67 a^{2} + 1 + \\frac{16}{a}} + \\frac{105 y}{a} + \\frac{105 z}{a} + \\frac{5664 y}{a^{2}} + \\frac{5664 z}{a^{2}} + \\frac{51457 y}{a^{3}} + \\frac{51457 z}{a^{3}} + \\frac{48 y}{a^{4}} + \\frac{48 z}{a^{4}} + \\frac{768 y}{a^{5}} + \\frac{768 z}{a^{5}} + \\frac{4096 y}{a^{6}} + \\frac{4096 z}{a^{6}}$"
      ],
      "text/plain": [
       "-a**6*y - a**6*z + 201*a**5*y + 201*a**5*z - 13467*a**4*y - 13467*a**4*z + 300766*a**3*y + 300766*a**3*z - 354*a**2*y - 3*a**2*y/(-a**2 + 67*a + 1/a + 16/a**2) - 354*a**2*z - 3*a**2*z/(-a**2 + 67*a + 1/a + 16/a**2) + 7035*a*y + 201*a*y/(-a**2 + 67*a + 1/a + 16/a**2) + 7035*a*z + 201*a*z/(-a**2 + 67*a + 1/a + 16/a**2) + 215469*y + 48*y/(-a**4 + 67*a**3 + a + 16) + 3*y/(-a**3 + 67*a**2 + 1 + 16/a) + 215469*z + 48*z/(-a**4 + 67*a**3 + a + 16) + 3*z/(-a**3 + 67*a**2 + 1 + 16/a) + 105*y/a + 105*z/a + 5664*y/a**2 + 5664*z/a**2 + 51457*y/a**3 + 51457*z/a**3 + 48*y/a**4 + 48*z/a**4 + 768*y/a**5 + 768*z/a**5 + 4096*y/a**6 + 4096*z/a**6"
      ]
     },
     "metadata": {},
     "output_type": "display_data"
    }
   ],
   "source": [
    "display(sym.expand(p6*p7))"
   ]
  },
  {
   "cell_type": "code",
   "execution_count": 80,
   "id": "84e167c5",
   "metadata": {},
   "outputs": [
    {
     "data": {
      "text/latex": [
       "$\\displaystyle 0$"
      ],
      "text/plain": [
       "0"
      ]
     },
     "metadata": {},
     "output_type": "display_data"
    }
   ],
   "source": [
    "display(p6*p7 - p7*p6)\n",
    "# 0 berarti p6*p7 sama dengan p7*p6"
   ]
  },
  {
   "cell_type": "code",
   "execution_count": null,
   "id": "bdad2841",
   "metadata": {},
   "outputs": [],
   "source": []
  }
 ],
 "metadata": {
  "kernelspec": {
   "display_name": "Python 3 (ipykernel)",
   "language": "python",
   "name": "python3"
  },
  "language_info": {
   "codemirror_mode": {
    "name": "ipython",
    "version": 3
   },
   "file_extension": ".py",
   "mimetype": "text/x-python",
   "name": "python",
   "nbconvert_exporter": "python",
   "pygments_lexer": "ipython3",
   "version": "3.9.7"
  }
 },
 "nbformat": 4,
 "nbformat_minor": 5
}
