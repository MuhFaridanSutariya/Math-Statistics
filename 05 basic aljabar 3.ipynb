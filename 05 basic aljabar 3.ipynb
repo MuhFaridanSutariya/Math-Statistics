{
 "cells": [
  {
   "cell_type": "markdown",
   "id": "4e0d982f",
   "metadata": {},
   "source": [
    "# SIGMA DAN PHI"
   ]
  },
  {
   "cell_type": "code",
   "execution_count": 1,
   "id": "0dbf0a46",
   "metadata": {},
   "outputs": [],
   "source": [
    "# PHI = Φ\n",
    "# PI  = π\n",
    "import numpy as np"
   ]
  },
  {
   "cell_type": "code",
   "execution_count": 2,
   "id": "bdda951d",
   "metadata": {},
   "outputs": [],
   "source": [
    "a1 = [1,2,3,4,5]"
   ]
  },
  {
   "cell_type": "code",
   "execution_count": 11,
   "id": "37b9779c",
   "metadata": {},
   "outputs": [
    {
     "data": {
      "text/plain": [
       "15"
      ]
     },
     "execution_count": 11,
     "metadata": {},
     "output_type": "execute_result"
    }
   ],
   "source": [
    "np.sum(a1)"
   ]
  },
  {
   "cell_type": "code",
   "execution_count": 12,
   "id": "d0f3c767",
   "metadata": {},
   "outputs": [
    {
     "data": {
      "text/plain": [
       "120"
      ]
     },
     "execution_count": 12,
     "metadata": {},
     "output_type": "execute_result"
    }
   ],
   "source": [
    "#products (perkalian)\n",
    "np.prod(a1)"
   ]
  },
  {
   "cell_type": "code",
   "execution_count": 14,
   "id": "a1baf60f",
   "metadata": {},
   "outputs": [
    {
     "data": {
      "text/plain": [
       "array([ 1,  3,  6, 10, 15], dtype=int32)"
      ]
     },
     "execution_count": 14,
     "metadata": {},
     "output_type": "execute_result"
    }
   ],
   "source": [
    "#cummulative summation\n",
    "#0+1, 1+2, 1+2+3, 1+2+3+4, 1+2+3+4+5\n",
    "np.cumsum(a1)"
   ]
  },
  {
   "cell_type": "code",
   "execution_count": 16,
   "id": "f44d80bc",
   "metadata": {},
   "outputs": [],
   "source": [
    "b2 = np.array([[1,2,3],[4,5,6]])"
   ]
  },
  {
   "cell_type": "code",
   "execution_count": 17,
   "id": "3f13cc11",
   "metadata": {},
   "outputs": [
    {
     "data": {
      "text/plain": [
       "array([[1, 2, 3],\n",
       "       [4, 5, 6]])"
      ]
     },
     "execution_count": 17,
     "metadata": {},
     "output_type": "execute_result"
    }
   ],
   "source": [
    "b2"
   ]
  },
  {
   "cell_type": "code",
   "execution_count": 19,
   "id": "009ab627",
   "metadata": {},
   "outputs": [],
   "source": [
    "from IPython.display import Math\n",
    "import sympy as sym"
   ]
  },
  {
   "cell_type": "code",
   "execution_count": 21,
   "id": "b48cc105",
   "metadata": {},
   "outputs": [
    {
     "data": {
      "text/latex": [
       "$\\displaystyle \\left[\\begin{matrix}1 & 2 & 3\\\\4 & 5 & 6\\end{matrix}\\right]$"
      ],
      "text/plain": [
       "<IPython.core.display.Math object>"
      ]
     },
     "metadata": {},
     "output_type": "display_data"
    }
   ],
   "source": [
    "#agar seperti matriks yang lazim\n",
    "display(Math(sym.latex(sym.simplify(b2))))"
   ]
  },
  {
   "cell_type": "code",
   "execution_count": 22,
   "id": "e0ffcac2",
   "metadata": {},
   "outputs": [
    {
     "data": {
      "text/plain": [
       "array([ 1,  3,  6, 10, 15, 21], dtype=int32)"
      ]
     },
     "execution_count": 22,
     "metadata": {},
     "output_type": "execute_result"
    }
   ],
   "source": [
    "np.cumsum(b2)"
   ]
  },
  {
   "cell_type": "code",
   "execution_count": 27,
   "id": "8fbaba3d",
   "metadata": {},
   "outputs": [],
   "source": [
    "#melihat hasil visualisasi dari b1 dan kumulatifnya\n",
    "import matplotlib.pyplot as plt\n",
    "import seaborn as sns\n",
    "import warnings\n",
    "\n",
    "warnings.filterwarnings('ignore')\n",
    "\n",
    "sns.set()"
   ]
  },
  {
   "cell_type": "code",
   "execution_count": 35,
   "id": "d4a9fc3f",
   "metadata": {},
   "outputs": [
    {
     "data": {
      "image/png": "[encoded data removed]",
      "text/plain": [
       "<Figure size 432x288 with 1 Axes>"
      ]
     },
     "metadata": {},
     "output_type": "display_data"
    }
   ],
   "source": [
    "plt.plot(a1, 'rs-')\n",
    "plt.plot(np.cumsum(a1), 'bo-')\n",
    "plt.legend(['a1','kumulatif'])\n",
    "plt.show()"
   ]
  },
  {
   "cell_type": "code",
   "execution_count": 36,
   "id": "5f03adc1",
   "metadata": {},
   "outputs": [
    {
     "data": {
      "image/png": "[encoded data removed]",
      "text/plain": [
       "<Figure size 432x288 with 1 Axes>"
      ]
     },
     "metadata": {},
     "output_type": "display_data"
    }
   ],
   "source": [
    "#visualisasi hasil dari kumulati products\n",
    "plt.plot(a1, 'rs-')\n",
    "plt.plot(np.cumprod(a1), 'bo-')\n",
    "plt.legend(['a1','kum_prod'])\n",
    "plt.show()"
   ]
  },
  {
   "cell_type": "code",
   "execution_count": 52,
   "id": "7c57168e",
   "metadata": {},
   "outputs": [],
   "source": [
    "#Quiz 1\n",
    "bil = np.arange(1,5)"
   ]
  },
  {
   "cell_type": "code",
   "execution_count": 58,
   "id": "676f70d7",
   "metadata": {},
   "outputs": [],
   "source": [
    "p1 = np.sum(bil)\n",
    "p2 = np.sum(bil**2)\n",
    "\n",
    "j1 = p1/p2\n",
    "j2 = 1/p1"
   ]
  },
  {
   "cell_type": "code",
   "execution_count": 61,
   "id": "63518cf1",
   "metadata": {},
   "outputs": [
    {
     "name": "stdout",
     "output_type": "stream",
     "text": [
      "0.3333333333333333\n",
      "0.1\n"
     ]
    }
   ],
   "source": [
    "print(j1)\n",
    "print(j2)"
   ]
  },
  {
   "cell_type": "code",
   "execution_count": 62,
   "id": "be70d6b7",
   "metadata": {},
   "outputs": [
    {
     "data": {
      "text/plain": [
       "False"
      ]
     },
     "execution_count": 62,
     "metadata": {},
     "output_type": "execute_result"
    }
   ],
   "source": [
    "j1 == j2"
   ]
  },
  {
   "cell_type": "code",
   "execution_count": 70,
   "id": "ed0d5648",
   "metadata": {},
   "outputs": [],
   "source": [
    "p3 = np.prod(bil)\n",
    "p4 = np.prod(bil**2)\n",
    "\n",
    "j3 = p3/p4\n",
    "j4 = 1/p3"
   ]
  },
  {
   "cell_type": "code",
   "execution_count": 71,
   "id": "c30640bf",
   "metadata": {},
   "outputs": [
    {
     "name": "stdout",
     "output_type": "stream",
     "text": [
      "0.041666666666666664\n",
      "0.041666666666666664\n"
     ]
    }
   ],
   "source": [
    "print(j3)\n",
    "print(j4)"
   ]
  },
  {
   "cell_type": "code",
   "execution_count": 72,
   "id": "58d4a23b",
   "metadata": {},
   "outputs": [
    {
     "data": {
      "text/plain": [
       "True"
      ]
     },
     "execution_count": 72,
     "metadata": {},
     "output_type": "execute_result"
    }
   ],
   "source": [
    "j3 == j4"
   ]
  },
  {
   "cell_type": "code",
   "execution_count": null,
   "id": "ec6b331e",
   "metadata": {},
   "outputs": [],
   "source": []
  }
 ],
 "metadata": {
  "kernelspec": {
   "display_name": "Python 3 (ipykernel)",
   "language": "python",
   "name": "python3"
  },
  "language_info": {
   "codemirror_mode": {
    "name": "ipython",
    "version": 3
   },
   "file_extension": ".py",
   "mimetype": "text/x-python",
   "name": "python",
   "nbconvert_exporter": "python",
   "pygments_lexer": "ipython3",
   "version": "3.9.7"
  }
 },
 "nbformat": 4,
 "nbformat_minor": 5
}
